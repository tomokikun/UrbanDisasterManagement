{
 "cells": [
  {
   "cell_type": "code",
   "execution_count": 195,
   "metadata": {},
   "outputs": [],
   "source": [
    "# -*- coding: utf-8 -*-\n",
    "%matplotlib inline\n",
    "import pandas as pd\n",
    "import numpy as np\n",
    "from scipy import fftpack\n",
    "\n",
    "import matplotlib.pyplot as plt\n",
    "import seaborn as sns"
   ]
  },
  {
   "cell_type": "code",
   "execution_count": 196,
   "metadata": {
    "collapsed": true
   },
   "outputs": [],
   "source": [
    "# データ ファイルのパス\n",
    "PATH = 'Q4149CF2.csv'"
   ]
  },
  {
   "cell_type": "code",
   "execution_count": 197,
   "metadata": {},
   "outputs": [
    {
     "name": "stdout",
     "output_type": "stream",
     "text": [
      "    NS     EW     UD\n",
      "0  0.0  0.001 -0.002\n",
      "1  0.0  0.001 -0.000\n",
      "2  0.0 -0.000 -0.000\n",
      "3  0.0 -0.003 -0.001\n",
      "4  0.0 -0.004 -0.002\n"
     ]
    }
   ],
   "source": [
    "# オリジナルの加速度を読み込む。\n",
    "data = pd.read_csv(PATH, skiprows=6)\n",
    "data = data.rename(columns={' NS': 'NS'})\n",
    "print(data.head())"
   ]
  },
  {
   "cell_type": "code",
   "execution_count": 198,
   "metadata": {},
   "outputs": [
    {
     "name": "stderr",
     "output_type": "stream",
     "text": [
      "/Users/m.tomoki/anaconda3/lib/python3.6/site-packages/matplotlib/figure.py:459: UserWarning: matplotlib is currently using a non-GUI backend, so cannot show the figure\n",
      "  \"matplotlib is currently using a non-GUI backend, \"\n"
     ]
    },
    {
     "data": {
      "image/png": "[encoded data removed]",
      "text/plain": [
       "<Figure size 720x288 with 3 Axes>"
      ]
     },
     "metadata": {},
     "output_type": "display_data"
    }
   ],
   "source": [
    "# オリジナルの加速度の波形を描画する。\n",
    "fig, (ax_NS, ax_EW, ax_UD) = plt.subplots(ncols=3, figsize=(10,4))\n",
    "\n",
    "ax_NS.plot(data['NS'])\n",
    "ax_NS.set_title('NS')\n",
    "\n",
    "ax_EW.plot(data['EW'])\n",
    "ax_EW.set_title('EW')\n",
    "\n",
    "ax_UD.plot(data['UD'])\n",
    "ax_UD.set_title('UD')\n",
    "\n",
    "\n",
    "fig.show()"
   ]
  },
  {
   "cell_type": "code",
   "execution_count": 199,
   "metadata": {},
   "outputs": [
    {
     "data": {
      "text/html": [
       "<div>\n",
       "<style>\n",
       "    .dataframe thead tr:only-child th {\n",
       "        text-align: right;\n",
       "    }\n",
       "\n",
       "    .dataframe thead th {\n",
       "        text-align: left;\n",
       "    }\n",
       "\n",
       "    .dataframe tbody tr th {\n",
       "        vertical-align: top;\n",
       "    }\n",
       "</style>\n",
       "<table border=\"1\" class=\"dataframe\">\n",
       "  <thead>\n",
       "    <tr style=\"text-align: right;\">\n",
       "      <th></th>\n",
       "      <th>NS</th>\n",
       "      <th>EW</th>\n",
       "      <th>UD</th>\n",
       "    </tr>\n",
       "  </thead>\n",
       "  <tbody>\n",
       "    <tr>\n",
       "      <th>0</th>\n",
       "      <td>(-338.595+0j)</td>\n",
       "      <td>(636.012+0j)</td>\n",
       "      <td>(-423.881+0j)</td>\n",
       "    </tr>\n",
       "    <tr>\n",
       "      <th>1</th>\n",
       "      <td>(-102.115530626+93.9080210482j)</td>\n",
       "      <td>(380.535035533-404.236252291j)</td>\n",
       "      <td>(13.0633474373-11.9826668884j)</td>\n",
       "    </tr>\n",
       "    <tr>\n",
       "      <th>2</th>\n",
       "      <td>(-14.0436144827+128.94695615j)</td>\n",
       "      <td>(7.48742568162-483.171623741j)</td>\n",
       "      <td>(0.530560005132-8.46160624027j)</td>\n",
       "    </tr>\n",
       "    <tr>\n",
       "      <th>3</th>\n",
       "      <td>(60.2192401727+103.646174263j)</td>\n",
       "      <td>(-247.552554827-316.668878864j)</td>\n",
       "      <td>(-1.22847144807+7.02888174725j)</td>\n",
       "    </tr>\n",
       "    <tr>\n",
       "      <th>4</th>\n",
       "      <td>(100.278072608+49.9704353821j)</td>\n",
       "      <td>(-318.258308633-95.4870534841j)</td>\n",
       "      <td>(9.07009519702+17.7192361053j)</td>\n",
       "    </tr>\n",
       "  </tbody>\n",
       "</table>\n",
       "</div>"
      ],
      "text/plain": [
       "                                NS                               EW  \\\n",
       "0                    (-338.595+0j)                     (636.012+0j)   \n",
       "1  (-102.115530626+93.9080210482j)   (380.535035533-404.236252291j)   \n",
       "2   (-14.0436144827+128.94695615j)   (7.48742568162-483.171623741j)   \n",
       "3   (60.2192401727+103.646174263j)  (-247.552554827-316.668878864j)   \n",
       "4   (100.278072608+49.9704353821j)  (-318.258308633-95.4870534841j)   \n",
       "\n",
       "                                UD  \n",
       "0                    (-423.881+0j)  \n",
       "1   (13.0633474373-11.9826668884j)  \n",
       "2  (0.530560005132-8.46160624027j)  \n",
       "3  (-1.22847144807+7.02888174725j)  \n",
       "4   (9.07009519702+17.7192361053j)  "
      ]
     },
     "execution_count": 199,
     "metadata": {},
     "output_type": "execute_result"
    }
   ],
   "source": [
    "# 1. データをフーリエ変換する。\n",
    "fft_df = pd.concat([pd.Series(fftpack.fft(data[column])) for column in data.columns], axis=1)\n",
    "\n",
    "fft_df = fft_df.rename(columns={0: 'NS', 1: 'EW', 2: 'UD'})\n",
    "fft_df.head()"
   ]
  },
  {
   "cell_type": "code",
   "execution_count": 200,
   "metadata": {},
   "outputs": [
    {
     "data": {
      "text/html": [
       "<div>\n",
       "<style>\n",
       "    .dataframe thead tr:only-child th {\n",
       "        text-align: right;\n",
       "    }\n",
       "\n",
       "    .dataframe thead th {\n",
       "        text-align: left;\n",
       "    }\n",
       "\n",
       "    .dataframe tbody tr th {\n",
       "        vertical-align: top;\n",
       "    }\n",
       "</style>\n",
       "<table border=\"1\" class=\"dataframe\">\n",
       "  <thead>\n",
       "    <tr style=\"text-align: right;\">\n",
       "      <th></th>\n",
       "      <th>NS</th>\n",
       "      <th>EW</th>\n",
       "      <th>UD</th>\n",
       "    </tr>\n",
       "  </thead>\n",
       "  <tbody>\n",
       "    <tr>\n",
       "      <th>0</th>\n",
       "      <td>(0.999832295874+0j)</td>\n",
       "      <td>(0.999832232649+0j)</td>\n",
       "      <td>(0.999832287574+0j)</td>\n",
       "    </tr>\n",
       "    <tr>\n",
       "      <th>1</th>\n",
       "      <td>(0.999832328741+6.81445677055e-08j)</td>\n",
       "      <td>(0.999832237368-1.83250924363e-08j)</td>\n",
       "      <td>(0.999831673691-5.34214837392e-07j)</td>\n",
       "    </tr>\n",
       "    <tr>\n",
       "      <th>2</th>\n",
       "      <td>(0.999832266305+1.07070956943e-07j)</td>\n",
       "      <td>(0.999832254171-2.89083258216e-08j)</td>\n",
       "      <td>(0.999832157855-1.64542883231e-06j)</td>\n",
       "    </tr>\n",
       "    <tr>\n",
       "      <th>3</th>\n",
       "      <td>(0.999832196081+1.00804030797e-07j)</td>\n",
       "      <td>(0.999832276025-2.73811378157e-08j)</td>\n",
       "      <td>(0.999832600214+1.92565548093e-06j)</td>\n",
       "    </tr>\n",
       "    <tr>\n",
       "      <th>4</th>\n",
       "      <td>(0.999832142987+5.5645649439e-08j)</td>\n",
       "      <td>(0.999832294886-1.20808217395e-08j)</td>\n",
       "      <td>(0.999831935494+6.25707871836e-07j)</td>\n",
       "    </tr>\n",
       "  </tbody>\n",
       "</table>\n",
       "</div>"
      ],
      "text/plain": [
       "                                    NS                                   EW  \\\n",
       "0                  (0.999832295874+0j)                  (0.999832232649+0j)   \n",
       "1  (0.999832328741+6.81445677055e-08j)  (0.999832237368-1.83250924363e-08j)   \n",
       "2  (0.999832266305+1.07070956943e-07j)  (0.999832254171-2.89083258216e-08j)   \n",
       "3  (0.999832196081+1.00804030797e-07j)  (0.999832276025-2.73811378157e-08j)   \n",
       "4   (0.999832142987+5.5645649439e-08j)  (0.999832294886-1.20808217395e-08j)   \n",
       "\n",
       "                                    UD  \n",
       "0                  (0.999832287574+0j)  \n",
       "1  (0.999831673691-5.34214837392e-07j)  \n",
       "2  (0.999832157855-1.64542883231e-06j)  \n",
       "3  (0.999832600214+1.92565548093e-06j)  \n",
       "4  (0.999831935494+6.25707871836e-07j)  "
      ]
     },
     "execution_count": 200,
     "metadata": {},
     "output_type": "execute_result"
    }
   ],
   "source": [
    "# フィルターをかける。(図3を参照)\n",
    "def filter_1(f):\n",
    "    \"\"\"周期の効果を表すフィルターです。\n",
    "    \"\"\"\n",
    "    return np.sqrt(1 / f)\n",
    "\n",
    "\n",
    "def filter_high(f):\n",
    "    \"\"\"ハイカットフィルターです。\n",
    "    \"\"\"\n",
    "    y = f * 0.1\n",
    "    result = (1 + 0.694 * y ** 2 + 0.0557 * y ** 6 + 0.009664 * y ** 8\n",
    "              + 0.00134 * y ** 10 + 0.000155 * y ** 12)\n",
    "    return 1 / np.sqrt(result)\n",
    "\n",
    "\n",
    "def filter_low(f):\n",
    "    \"\"\"ローカットフィルターです。\n",
    "    \"\"\"\n",
    "    return np.sqrt(1 - np.exp(- (f / 0.5) ** 3))\n",
    "\n",
    "\n",
    "filtered_df = filter_low(filter_high(filter_1(fft_df)))\n",
    "\n",
    "filtered_df.head()"
   ]
  },
  {
   "cell_type": "code",
   "execution_count": 225,
   "metadata": {},
   "outputs": [
    {
     "data": {
      "text/html": [
       "<div>\n",
       "<style>\n",
       "    .dataframe thead tr:only-child th {\n",
       "        text-align: right;\n",
       "    }\n",
       "\n",
       "    .dataframe thead th {\n",
       "        text-align: left;\n",
       "    }\n",
       "\n",
       "    .dataframe tbody tr th {\n",
       "        vertical-align: top;\n",
       "    }\n",
       "</style>\n",
       "<table border=\"1\" class=\"dataframe\">\n",
       "  <thead>\n",
       "    <tr style=\"text-align: right;\">\n",
       "      <th></th>\n",
       "      <th>NS</th>\n",
       "      <th>EW</th>\n",
       "      <th>UD</th>\n",
       "    </tr>\n",
       "  </thead>\n",
       "  <tbody>\n",
       "    <tr>\n",
       "      <th>0</th>\n",
       "      <td>0.999860</td>\n",
       "      <td>1.465772e+16</td>\n",
       "      <td>221.863779</td>\n",
       "    </tr>\n",
       "    <tr>\n",
       "      <th>1</th>\n",
       "      <td>0.000498</td>\n",
       "      <td>-1.170095e+16</td>\n",
       "      <td>-73.018946</td>\n",
       "    </tr>\n",
       "    <tr>\n",
       "      <th>2</th>\n",
       "      <td>-0.000723</td>\n",
       "      <td>1.383406e+15</td>\n",
       "      <td>-223.432001</td>\n",
       "    </tr>\n",
       "    <tr>\n",
       "      <th>3</th>\n",
       "      <td>0.000532</td>\n",
       "      <td>9.804402e+15</td>\n",
       "      <td>51.972015</td>\n",
       "    </tr>\n",
       "    <tr>\n",
       "      <th>4</th>\n",
       "      <td>-0.000067</td>\n",
       "      <td>-1.482450e+16</td>\n",
       "      <td>232.430595</td>\n",
       "    </tr>\n",
       "    <tr>\n",
       "      <th>5</th>\n",
       "      <td>-0.000395</td>\n",
       "      <td>1.051888e+16</td>\n",
       "      <td>-39.758572</td>\n",
       "    </tr>\n",
       "    <tr>\n",
       "      <th>6</th>\n",
       "      <td>0.000603</td>\n",
       "      <td>4.039061e+14</td>\n",
       "      <td>-230.805260</td>\n",
       "    </tr>\n",
       "    <tr>\n",
       "      <th>7</th>\n",
       "      <td>-0.000468</td>\n",
       "      <td>-1.107261e+16</td>\n",
       "      <td>19.084335</td>\n",
       "    </tr>\n",
       "    <tr>\n",
       "      <th>8</th>\n",
       "      <td>0.000124</td>\n",
       "      <td>1.477582e+16</td>\n",
       "      <td>233.915066</td>\n",
       "    </tr>\n",
       "    <tr>\n",
       "      <th>9</th>\n",
       "      <td>0.000163</td>\n",
       "      <td>-9.183936e+15</td>\n",
       "      <td>-1.306034</td>\n",
       "    </tr>\n",
       "    <tr>\n",
       "      <th>10</th>\n",
       "      <td>-0.000201</td>\n",
       "      <td>-2.185327e+15</td>\n",
       "      <td>-236.146458</td>\n",
       "    </tr>\n",
       "    <tr>\n",
       "      <th>11</th>\n",
       "      <td>0.000011</td>\n",
       "      <td>1.217985e+16</td>\n",
       "      <td>-12.663420</td>\n",
       "    </tr>\n",
       "    <tr>\n",
       "      <th>12</th>\n",
       "      <td>0.000216</td>\n",
       "      <td>-1.451234e+16</td>\n",
       "      <td>230.374959</td>\n",
       "    </tr>\n",
       "    <tr>\n",
       "      <th>13</th>\n",
       "      <td>-0.000290</td>\n",
       "      <td>7.715475e+15</td>\n",
       "      <td>35.186208</td>\n",
       "    </tr>\n",
       "  </tbody>\n",
       "</table>\n",
       "</div>"
      ],
      "text/plain": [
       "          NS            EW          UD\n",
       "0   0.999860  1.465772e+16  221.863779\n",
       "1   0.000498 -1.170095e+16  -73.018946\n",
       "2  -0.000723  1.383406e+15 -223.432001\n",
       "3   0.000532  9.804402e+15   51.972015\n",
       "4  -0.000067 -1.482450e+16  232.430595\n",
       "5  -0.000395  1.051888e+16  -39.758572\n",
       "6   0.000603  4.039061e+14 -230.805260\n",
       "7  -0.000468 -1.107261e+16   19.084335\n",
       "8   0.000124  1.477582e+16  233.915066\n",
       "9   0.000163 -9.183936e+15   -1.306034\n",
       "10 -0.000201 -2.185327e+15 -236.146458\n",
       "11  0.000011  1.217985e+16  -12.663420\n",
       "12  0.000216 -1.451234e+16  230.374959\n",
       "13 -0.000290  7.715475e+15   35.186208"
      ]
     },
     "execution_count": 225,
     "metadata": {},
     "output_type": "execute_result"
    }
   ],
   "source": [
    "# 逆フーリエ変換する。\n",
    "# 逆フーリエ変換すると、虚部が残る可能性があるので、np.real をかぶせる。\n",
    "ifft_df = pd.concat([pd.Series(np.real(fftpack.ifft(filtered_df[column]))) for column in filtered_df.columns], axis=1)\n",
    "\n",
    "ifft_df = ifft_df.rename(columns={0: 'NS', 1: 'EW', 2: 'UD'})\n",
    "ifft_df.head(14)"
   ]
  },
  {
   "cell_type": "code",
   "execution_count": 226,
   "metadata": {},
   "outputs": [],
   "source": [
    "# フィルター処理済みの3成分波形をベクトル的に合成する。\n"
   ]
  },
  {
   "cell_type": "markdown",
   "metadata": {},
   "source": [
    "# 5. a を求める。 "
   ]
  },
  {
   "cell_type": "code",
   "execution_count": 204,
   "metadata": {
    "collapsed": true
   },
   "outputs": [],
   "source": [
    "# 6. 計測震度 I を計算する。"
   ]
  },
  {
   "cell_type": "code",
   "execution_count": 190,
   "metadata": {
    "collapsed": true
   },
   "outputs": [],
   "source": [
    "# Iの小数第３位を四捨五入し、小数第２位を切り捨てたものを計測震度として返す。"
   ]
  },
  {
   "cell_type": "code",
   "execution_count": null,
   "metadata": {},
   "outputs": [],
   "source": []
  },
  {
   "cell_type": "code",
   "execution_count": null,
   "metadata": {
    "collapsed": true
   },
   "outputs": [],
   "source": []
  },
  {
   "cell_type": "code",
   "execution_count": null,
   "metadata": {
    "collapsed": true
   },
   "outputs": [],
   "source": []
  },
  {
   "cell_type": "code",
   "execution_count": null,
   "metadata": {
    "collapsed": true
   },
   "outputs": [],
   "source": []
  }
 ],
 "metadata": {
  "kernelspec": {
   "display_name": "Python 3",
   "language": "python",
   "name": "python3"
  },
  "language_info": {
   "codemirror_mode": {
    "name": "ipython",
    "version": 3
   },
   "file_extension": ".py",
   "mimetype": "text/x-python",
   "name": "python",
   "nbconvert_exporter": "python",
   "pygments_lexer": "ipython3",
   "version": "3.6.3"
  }
 },
 "nbformat": 4,
 "nbformat_minor": 2
}
